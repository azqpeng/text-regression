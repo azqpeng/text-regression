{
 "cells": [
  {
   "attachments": {},
   "cell_type": "markdown",
   "metadata": {},
   "source": [
    "This file is used to process the p-19 Project Gutenberg dataset into a set of texts/sentences and a set of labels. "
   ]
  },
  {
   "cell_type": "code",
   "execution_count": 2,
   "metadata": {},
   "outputs": [],
   "source": [
    "import pandas as pd\n",
    "import os\n",
    "import re"
   ]
  },
  {
   "cell_type": "code",
   "execution_count": 5,
   "metadata": {},
   "outputs": [],
   "source": [
    "# this part of the file opens up the csv file and reads it. \n",
    "\n",
    "df = pd.read_csv('data\\gutenold\\metametadat.csv')\n",
    "df.columns = ['index', 'title', 'date', 'link']\n",
    "df.to_csv('data\\gutenold\\metametadata.csv')"
   ]
  },
  {
   "attachments": {},
   "cell_type": "markdown",
   "metadata": {},
   "source": [
    "This part of the file takes all the raw data, and preprocesses it as appropriate."
   ]
  },
  {
   "cell_type": "code",
   "execution_count": 22,
   "metadata": {},
   "outputs": [],
   "source": [
    "for filename in os.listdir('data/gutenold/rawdata'):\n",
    "    if filename.endswith('.txt'):\n",
    "        # take the file, open it, read it, remove all the newlines, and replace the old file with the new content\n",
    "\n",
    "        with open('data/gutenold/rawdata/' + filename, 'r', encoding='utf-8') as f:\n",
    "            content = f.read()\n",
    "            content = content.replace('\\n', ' ')\n",
    "            content = content.replace('\\r', ' ')\n",
    "            content = content.replace('\\t', ' ')  \n",
    "            content = re.sub(\"-\", \" \", content)\n",
    "            content = \" \".join(content.split())    \n",
    "            g = open('data/gutenold/modfiles/' + filename, 'w', encoding='utf-8')\n",
    "            g.write(content)\n",
    "            g.close()"
   ]
  },
  {
   "attachments": {},
   "cell_type": "markdown",
   "metadata": {},
   "source": [
    "also manually removed all files under 3kb as most of them are useless."
   ]
  },
  {
   "cell_type": "code",
   "execution_count": 37,
   "metadata": {},
   "outputs": [],
   "source": [
    "for filename in os.listdir('data/gutenold/modfiles'):\n",
    "    if filename.endswith('.txt'):\n",
    "        # take the file, open it, read it, remove all the newlines, and replace the old file with the new content\n",
    "\n",
    "        with open('data/gutenold/modfiles/' + filename, 'r', encoding='utf-8') as f:\n",
    "            content = f.read()\n",
    "            content = re.sub(\"\\[Illustration:.*?\\]\",\"\",content)\n",
    "            content = re.sub(\"\\[ Illustration:.*?\\]\",\"\",content)\n",
    "            content = re.sub(\"\\[ Illustration:.*?\\]\",\"\",content)\n",
    "            content = re.sub(\"-\", \"\", content)\n",
    "\n",
    "            content = \" \".join(content.split())\n",
    "                \n",
    "            content = re.sub(r'\"[^a-zA-Z0-9.,!]+', '', content)    \n",
    "            m = len(content) // 2\n",
    "            content = content[m: m + 250]\n",
    "            content = \" \".join(content.split(\" \")[1:-1])\n",
    "            g = open('data/gutenold/realdata/' + filename, 'w', encoding='utf-8')\n",
    "            g.write(content)\n",
    "            g.close()"
   ]
  },
  {
   "cell_type": "code",
   "execution_count": 35,
   "metadata": {},
   "outputs": [],
   "source": [
    "for filename in os.listdir('data/gutenold/realdata'):\n",
    "    if filename.endswith('.txt'):\n",
    "        with open('data/gutenold/realdata/' + filename, 'r', encoding='utf-8') as f:\n",
    "            string = f.read()\n",
    "            string = re.sub(r\"^\\\"\", \"\", string)\n",
    "            string = re.sub(r\"\\\"$\", \"\", string)\n",
    "            string = re.sub(r\"\\'s\", \" \\'s\", string)\n",
    "            string = re.sub(r\"\\'ve\", \" \\'ve\", string)\n",
    "            string = re.sub(r\"n\\'t\", \" n\\'t\", string)\n",
    "            string = re.sub(r\"\\'re\", \" \\'re\", string)\n",
    "            string = re.sub(r\"\\'d\", \" \\'d\", string)\n",
    "            string = re.sub(r\"\\'ll\", \" \\'ll\", string)\n",
    "\n",
    "            string = re.sub(r\"\\.\", \" \", string)\n",
    "            string = re.sub(r\",\", \" \", string)\n",
    "            string = re.sub(r\"!\", \" \", string)\n",
    "            string = re.sub(r\"\\?\", \" \", string)\n",
    "\n",
    "            string = re.sub(r\"\\(\", \" \", string)\n",
    "            string = re.sub(r\"\\)\", \" \", string)\n",
    "            string = re.sub(\"\\[.*?\\]\",\"\",string)\n",
    "            string = re.sub(r\"\\[\", \"\", string)\n",
    "            string = re.sub(r\"\\]\", \" \", string)\n",
    "            string = re.sub(\"\\{.*?\\}\",\"\",string)\n",
    "            string = re.sub(r\"\\{\", \"\", string)\n",
    "            string = re.sub(r\"\\}\", \"\", string)\n",
    "            string = re.sub(r\"<\", \"\", string)\n",
    "            string = re.sub(r\">\", \"\", string)\n",
    "\n",
    "            string = re.sub(r\"'\", \"\", string)\n",
    "            string = re.sub(r\"|\", \"\", string)\n",
    "            string = re.sub(r\"\\*\", \"\", string)\n",
    "            string = re.sub(r\"_\", \" \", string)\n",
    "            string = re.sub(r'\"', '', string)\n",
    "            string = re.sub(r\"[^A-Za-z0-9 ]\", \"\", string)\n",
    "            string = re.sub(r\"\\s{2,}\", \" \", string)\n",
    "            string = \" \".join(string.split())\n",
    "            string = string.strip().lower()    \n",
    "            g = open('data/gutenold/data/' + filename, 'w', encoding='utf-8')\n",
    "            g.write(string)\n",
    "            g.close()"
   ]
  },
  {
   "cell_type": "code",
   "execution_count": 6,
   "metadata": {},
   "outputs": [],
   "source": [
    "# This script creates a \"sentences\" and \"labels\" dataset using the text files\n",
    "\n",
    "textstring = \"\"\n",
    "labelstring = \"\"\n",
    "\n",
    "for filename in os.listdir('data/gutenold/toy'):\n",
    "    name = filename[:-4]\n",
    "    textstring += name + \"\\t\" + open('data/gutenold/toy/' + filename, 'r', encoding='utf-8').read() + \"\\n\"\n",
    "    labelstring += name + \"\\t\" + str((df.loc[(df['index'] == int(name))])['date'].item()) + \"\\n\"\n",
    "\n",
    "textset = open('data/gutenold/' + \"toy_sentences.txt\", 'w', encoding='utf-8')\n",
    "textset.write(textstring)\n",
    "textset.close()\n",
    "\n",
    "labelset = open('data/gutenold/' + \"toy_labels.txt\", 'w', encoding='utf-8')\n",
    "labelset.write(labelstring)\n",
    "labelset.close()\n"
   ]
  },
  {
   "cell_type": "code",
   "execution_count": null,
   "metadata": {},
   "outputs": [],
   "source": [
    "# this subscript assigns training and test labels to the dataset\n",
    "\n"
   ]
  }
 ],
 "metadata": {
  "kernelspec": {
   "display_name": "periodlearning",
   "language": "python",
   "name": "python3"
  },
  "language_info": {
   "codemirror_mode": {
    "name": "ipython",
    "version": 3
   },
   "file_extension": ".py",
   "mimetype": "text/x-python",
   "name": "python",
   "nbconvert_exporter": "python",
   "pygments_lexer": "ipython3",
   "version": "3.10.10"
  },
  "orig_nbformat": 4
 },
 "nbformat": 4,
 "nbformat_minor": 2
}
