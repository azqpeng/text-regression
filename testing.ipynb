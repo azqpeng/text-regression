{
 "cells": [
  {
   "cell_type": "code",
   "execution_count": 27,
   "metadata": {},
   "outputs": [],
   "source": [
    "import json\n",
    "import re\n",
    "import numpy as np\n",
    "import torch\n",
    "import pandas as pd\n",
    "from torch_geometric.data import InMemoryDataset, Data\n",
    "from sklearn.model_selection import train_test_split\n",
    "import torch_geometric.transforms as T\n",
    "from sklearn.feature_extraction.text import TfidfVectorizer, CountVectorizer\n"
   ]
  },
  {
   "cell_type": "code",
   "execution_count": 23,
   "metadata": {},
   "outputs": [
    {
     "name": "stdout",
     "output_type": "stream",
     "text": [
      "Data(x=[5], y=[5], train_mask=[11])\n",
      "tensor([False, False, False, False, False, False,  True,  True, False, False,\n",
      "         True])\n",
      "['11', '92', '10', '15', '21']\n"
     ]
    }
   ],
   "source": [
    "test1 = torch.zeros(10, dtype = torch.bool)\n",
    "docList = [\"fish\", \"bitch\", \"nitch\", \"ditch\", \"witch\"]\n",
    "labels = [\"11\", \"92\", \"10\", \"15\", \"21\"]\n",
    "\n",
    "data = Data(x = docList, y = labels)\n",
    "\n",
    "m = train_test_split(pd.Series(docList), pd.Series([\"11\", \"92\", \"10\", \"15\", \"21\"]), test_size= 0.4)\n",
    "\n",
    "train_mask = torch.zeros(11, dtype = torch.bool)\n",
    "train_mask[m[0].index + 6] = True\n",
    "data['train_mask'] = train_mask\n",
    "\n",
    "\n",
    "print(data)\n",
    "print(data['train_mask'])\n",
    "print(data.y)\n"
   ]
  },
  {
   "cell_type": "code",
   "execution_count": 64,
   "metadata": {},
   "outputs": [
    {
     "name": "stdout",
     "output_type": "stream",
     "text": [
      " Sir: It was interesting to read Francesca Unsworth boast in her letter about Melanie Phillips article on Alan Johnston, that the BBC 'is reporting from the region fairly and impartially'. If that is the case, why won't the BBC release the Balen report which was commissioned specifically to consider whether that was true? Hyarn Lehrer London NW11\n",
      " Q. I am godmother to a dear eight-year-old boy whose parents are separated. Every so often I try to see the little chap by inviting him to lunch in a smart restaurant for a treat. However the last two times that I have done this his father has trumped me by coming too and insisting on paying for the lunch, in fact settling it with the maître d’ behind my back. How can I get around this difficulty, Mary, since the boy’s birthday looms and once again I have arranged to take him to his favourite restaurant? S.L.B., Barnes\n",
      " Telling tales Jaspistos IN COMPETITION NO. 2128 you were invited to invent comic tales which could be entitled 'The ivy-tree', 'The two scholars and one pair of breeches' or 'Taffy in the sedan-chair'. The short story of Oliver Goldsmith in which these funny stories are mentioned but not related is intriguingly called 'A Curious Inconsistency of the Man in Black' — that as much as I know. What sort of jokes were they? Ponderously pedantic? Risque? Racist? Shaggy dog? Punning? We shall never know. It was hard on you to be asked to think up jests from a cold start, and I sensed the strain. The prizewinners, printed below, who emerged clear of the humorous ruck, get £20 each, and the bot- tie of the Macallan Single Malt Highland Scotch whisky goes to Andrew Brison, for whom brevity proved the soul of wit. A young man, having paid one of his secret visits to his girlfriend bedroom, was climbing down when the ivy branches alerted her mother who rushed out to confront him. 'You've been up our ivy, my lad, haven't you?' Begging your pardon, ma'am,' replied the stunned suitor. 'It your Rose I've been seeing.' (Andrew Brison) We were rehearsing our annual pantomime, Cinderella, in the chapel. My friend, Taffy, was playing one of the two brokers' men. Unfortunately, he'd fallen for the girl playing Cinderella and his wife was always trying to catch them at it. As amateurs we couldn't afford a splendid carriage so we improvised by using a sedan-chair in which the brokers' men transported Cinderella to the ball. One night, his wife while searching for Taffy, pulled back the sedan-chair curtains and discovered him in flagrante delicto with Cinderella. 'Er . . I was looking for Buttons,' Taffy explained lamely. It seems you found most of them,' his wife responded drily. (R.J. Pickles) When my father sang at King, he and another choral scholar accepted a wager to exchange clothes during the closing prayers of Evensong. Jackets were removed under cover of surplices and passed discreetly from hand to hand along the stalls, followed by shirts and shoes. However, one pair of trousers was impishly misappropriat- ed en route. The remaining pair was subjected to a surreptitious but keenly contested tug-of-war, which my father lost. He was naturally in some trepidation at the thought of processing before the Provost in his underclothes. Wisely choosing not to exit with the choir and clergy, he remained immovably on his knees until the chapel was empty. Later the Provost remarked how impressed he was by such piety, and advised my father to consider holy orders. 'I suspect,' said the Provost, 'that your particular calling would be to the needy — clothing the naked etc.' (Philip Irwin) Two students of the Law, Masters Peter and John, had between them but one pair of breech- es, which by agreement they wore alternately, to the puzzlement of their lecturer, Dr Swyvewell. One day, Master John having failed to return from an overnight escapade, Master Peter was obliged to sally forth with no more covering his legs than a hasty smearing of soot from the chimney. Alas, the wind, taking his gown, blew the soot away, and his stratagem (and much else) was uncovered. When arraigned for a breach of the peace before the Proctor, who was none other than Dr Swyvewell, Master Peter confessed. The good doctor, seeing how matters were, declared that a breach of the peace there may have been, but since it had been caused by more in the breach than the observance, he would let Master Peter go, and rusticate Master John for breach of promise. (Noel Petty) Two scholars disputed the ownership of a pair of breeches. 'They're mine,' said the first. 'I know by the stitching.' No,' said the second. 'Mine have the same stitching but the braiding proves they're mine.' Insufficient proof,' argued the first. Then, sniffing the breeches, he exclaimed, 'God, how they stink!' They're not mine,' the second conceded. 'They're the wrong colour.' And he left. Thus the craftier scholar acquired a fine pair of breeches. Taffy, half-deaf, had never been in a sedan chair. Told what it was he asked: 'A what chair?' 'Sedan!' shouted the passer-by, whereupon Taffy punched him. 'Nobody tells Taffy to sit down!' (Frank McDonald) One day, Taffy bets Dai that he, Taffy, can turn up legless but stone-cold sober in the bar that night. So, an hour or so before closing time, Dai and his mates become aware of a rumpus out- side. They go out and see an irate Taffy sitting in a sedan-chair of all things and Jones, the land- lord, telling him it a vehicle and has to be parked outside, he can't bring it into the bar. 'Ha!' says Dai. 'Looks like you've completely lost the plot this time, Taff! Either that,' and he points at the sedan, 'or the wheels really have come off!' (Andrew Gibbons) No. 2131: Class hatred 'How beastly the bougeois is,/Especially the male of the species.' These are the first two lines of a free-verse poem by D.H. Lawrence. You are invited to add 14 lines to them in the same spirit. Entries to 'Competition No. 2131' by 6 April.\n",
      " Jeremy Clarke Six for Sunday lunch. Me, my boy, my mother, my mother’s boyfriend Dr Lovepants, my sister, and this poised, wellgroomed, long-haired chap, billed as the new man in my sister’s life. Me and the boy are a bit late and everyone else has started eating. The new man in my sister’s life’s hair is receding at the front and long at the back and he’s got a pointy beard. I’m dying to discomfit him with searching questions. New men in my sister’s life, as a group, are normally among the most unserious people in the world. But this one looks like he’s treating the occasion with at least as much earnestness as my sister. The mien is essentially polite. The price tag on the bottle of French wine he’s brought says a whopping £6.50. A man of immense intellect and apparently no emotional intelligence whatsoever, Dr Lovepants has already launched into his customary mealtime monologue. He’s a compulsive talker, and an ideal candidate, I tell him, for the compulsive talkers’ self-help association On Anon Anon. His failing memory means that sometimes we have to listen to a monologue that was broadcast earlier. He and my mother have been visiting National Trust properties in Kent. At Chartwell they were shown around Churchill’s garden studio by an official guide, who kindly shared his favourite Churchill anecdote. It was a marvel, frankly, how this guide managed to get a word in edgeways. The story involves the great man himself (Churchill) and a small boy, one of Churchill’s grandchildren. Dr Lovepants acts both parts with a high standard of mimicry that is his main saving grace. Churchill has shut himself away in his studio to study the newspaper. Timid knock on door. Snort of irritation concedes that the Lion’s Roar is indeed at home. Enter small timid grandchild. ‘Grandfather,’ he says. ‘Is it true that you are the most famous person in the whole world?’ Newspaper lowers, revealing face of the old warrior, on which pugnacity is only slightly tempered by kindliness. ‘Yes. Now bugger off.’ We laugh. But all eyes are on the new man in my sister’s life to see if he’s laughing. He is, but not sycophantically, in spite of our framed portrait of Churchill that he must have noticed hanging in the hall. But before anyone can fire off a ‘So what do you do for a living, then?’ Dr Lovepants has moved seamlessly on to a description of Down House, former home of Charles Darwin. (Seamlessly, I should add, except for the lumps of food that come tumbling out of his mouth every so often.) Dr Lovepants tells us how he and my mother followed the circular garden pathway that Darwin walked every day. Darwin used these walks, said Dr Lovepants, to give voice to his interior conversation. Does he mean in the same way that he, Dr Lovepants, uses his visits to articulate his own, I ask him? But he affects not to hear. Maybe in monologue mode it’s only himself he can hear. Throughout the first course, which is roast beef, no one else can get a word in. Over the apple crumble, Dr Lovepants fixes the new man in my sister’s life with his eye and he ratchets up the intellectual ante. His monologue goes from the garden path at Down House to Darwin’s theory of evolution to the absurdity of creation theo ry to Jewish history. And then a flurry of Jewish jokes, the punchline of the last of which has Jehovah tinkling a bell and calling out, ‘Two teas, please, Mohamed!’ And then on via eugenics to Francis Galton and Oliver Wendell Holmes. Dr Lovepants leans forward and says to the new man in my sister’s life: ‘You’ve heard of Oliver Wendell Holmes, I take it?’ We hold our breath. A direct question. The new man in my sister’s life is being permitted to speak — to say whether or not he’s heard of Oliver Wendell Holmes. Has he or hasn’t he? The way Dr Lovepants puts it, it sounds crucial in some way. None of us has, of course. But then again none of us has ever heard of anyone outside the Bible or the Premiership. If you ask me, Oliver Wendell Holmes sounds like a housing association. The new man in my sister’s life says, ‘Do you mean Dr Oliver Wendell Holmes or his son Judge Oliver Wendell Holmes?’ He says it with warm familiarity, as if both are personal friends. My sister, who only reads menus, looks at the new man in her life with awe and reverence. After lunch my boy consults his What Car? guide to second-hand car prices and reports that the new man in my sister’s life’s Mercedes is worth £4,600 trade price and £5,600 to a dealer. Again, impressive. Clearly this new man in my sister’s life is going to be one to watch.\n",
      " The Rake Progress (Coliseum) Doom and despond Michael Tanner ENO new production of Stravinsky The Rake Progress is quite good, but not quite good enough to silence any doubts one may have about the work stature. There is no question that it is an expertly crafted piece, instantly recognisable in every bar as the work of its composer, and therefore automatically for many of us a source of delight, his own pleasure in his creation being, as usual, one of its salient features. It is clear, too, that the work peaks in its final two scenes, the extraordinarily grim and minatory deserted brothel scene, where, with extreme economy of means, Stravinsky achieves an atmosphere of doom surpassing even that of Don Giovanni, the opera model in many respects; and the 'Bedlam' scene, where the pathos is so intense, and developed at such surprising length, that the work seems to acquire a different nature from what it has had up to that point. Another of Mozart operas which the composer said was much in his mind when he was composing The Rake was Cosi fan tutte, which reaches unexpected depths as it proceeds; but there it is a matter of people feelings getting out of hand, whereas in The Rake it seems more a matter of perhaps the librettists, more obviously the composer, letting themselves go, an almost unthinkable thing with such Apollonian artists. The 'Epilogue', allegedly there to point out the moral, a sufficiently obvious one, is not the parallel to the one in Don Giovanni that it hopes to be. In Mozart opera, whatever the surviving characters say, what they show is that the amoral force that has departed was what endowed them all with life. In The Rake it does look more as if the Epilogue sole function is to restore us to the uncaring state in which we have been for most of the evening, and which the creators want to persuade us that they never abandoned, It seems to me a creditable thing, even if it costs a work its integrity, if it gets out of hand; but for these creators the centre of their aesthetic was integrity, the integrity of exclusion, so their effort must be seen as fundamentally flawed, for all its frequent enchantments. As usual with Stravinsky, one of the things about The Rake is that it allows its interpreters little latitude. Stravinsky is the great control-freak among composers, a charge to which he would have readily agreed. And for anyone who has seen the long-running Glyndebourne production, with its celebrated Hockney settings, it seems to have achieved its near-definitive form there. Above all The Rake is self-consciously stylish, and it revels in its artificiality, which it teasingly suggests is something akin to petrifaction, by evoking a world of poised classicism. The visual side of any performance must honour that just as much as the musical account. That is something that the ENO production, by Annabel Arden, with designs by Yannis Thavoris, firmly refuses to do. As so often now, what we get is settings more or less contemporary with the time of the work composition, leaving the abyss between text and action on the one hand and what we see on the other, to be covered by the word 'deconstruction' (there is no concept, because no thinking is involved). The opening scene suggests a semi-parody of rural post-war England, Dad smoking his pipe, the youngsters doing a masque; so green-wellies is the ambience that only a copy of The Spectator is missing. Thereafter we have underfurnished crepuscularity, the permanent resort of cash-strapped opera companies. But atmosphere is too sadly lacking, so that the opera weaker scenes, such as 'Mother Goose brothel' and the 'Auction', fail to come to vivid enough life, and one notices the threadbare condition of the music. The three principals are excellent performers, but not at their best in these roles, anyway when interpreted in this way. Barry Banks, the Rake, projects in his voice, appearance and acting the loveable nerd, which makes him an attractive Nemorino. The plangency in his tones can easily sound petulant, and that is one of the troubles with Tom Rakewell which needs to be played down. He doesn't seem to have enough vitality to be a plausible rake, so the only other option is decadent languor; Banks can't manage either of those, and seems nothing more than a nice guy always doing the wrong thing — a subject for a different morality play. Banks is touchingly diminutive, while Gidon Saks, Nick Shadow, is vast. The contrast between them tends to be nothing but comic, in an obvious Laurel-and-Hardy way. They try to develop a suggestion of a homoerotic relationship, which seems silly, even if Banks does rest very conveniently on Saks lower chest when standing. Saks has a magnificent voice, and a striking presence, but he plays Nick too hammily. Lisa Milne Anne is grandly sung, but she takes the maternal interpretation of this unspecific role, and you feel she could easily put Tom under her arm and walk home with him, the best thing for all concerned. And yet there was a great deal of pleasure to be had from the music, thanks to the keen but relaxed conducting of Vladimir Jurowski, who will no doubt, and welcomely, be in charge of the next Glyndebourne revival,\n"
     ]
    }
   ],
   "source": [
    "\n",
    "# create labels and sentences dataset.\n",
    "monthsDict = {\"Jan\": 0, \"Feb\": 31, \"Mar\": 59, \"Apr\": 90, \"May\": 120, \"Jun\": 151, \"Jul\": 181, \"Aug\": 212, \"Sep\": 243, \"Oct\": 273, \"Nov\": 304, \"Dec\": 334}\n",
    "counter = 0\n",
    "for article in json_data: \n",
    "    counter += 1\n",
    "    # convert dates into floats\n",
    "    preDate = article['date'].split(\" \")\n",
    "    newDate = int(preDate[2]) + (int(preDate[0]) + monthsDict[preDate[1]]) / 365\n",
    "\n",
    "    # remove punctuation and redundancies from sentences\n",
    "    sentence = \"\"\n",
    "    for i in article['body']:\n",
    "        sentence +=\" \" + i            \n",
    "    sentence = re.sub(r\"[!@#$%^&*.]\",'',sentence)\n",
    "    print(sentence)\n",
    "    if counter == 5:\n",
    "        break"
   ]
  },
  {
   "cell_type": "code",
   "execution_count": 12,
   "metadata": {},
   "outputs": [
    {
     "name": "stdout",
     "output_type": "stream",
     "text": [
      "[[1. 0. 0. 0. 0.]\n",
      " [0. 1. 0. 0. 0.]\n",
      " [0. 0. 1. 0. 0.]\n",
      " [0. 0. 0. 1. 0.]\n",
      " [0. 0. 0. 0. 1.]]\n"
     ]
    }
   ],
   "source": [
    "print(np.identity(5))"
   ]
  },
  {
   "cell_type": "code",
   "execution_count": 41,
   "metadata": {},
   "outputs": [],
   "source": [
    "class TextDataset(InMemoryDataset):\n",
    "    def __init__(self, docList, labels, nodeCount, test_size, transform = None):\n",
    "        super(TextDataset, self).__init__('.', transform = transform)\n",
    "\n",
    "        data = Data(x = docList, y = labels)\n",
    "\n",
    "        # split data into training, validation(?), test\n",
    "        train_data, test_data, train_labels, test_labels = train_test_split(pd.Series(docList), pd.Series(labels), test_size = test_size)\n",
    "\n",
    "        self.x_train = train_data\n",
    "        self.x_test = test_data\n",
    "        self.y_train = train_labels\n",
    "        self.y_test = test_labels\n",
    "\n",
    "        vocabCount = nodeCount - len(docList)\n",
    "        # create masks\n",
    "        self.train_mask = torch.zeros(nodeCount, dtype = torch.bool)\n",
    "        self.test_mask = torch.zeros(nodeCount, dtype = torch.bool)\n",
    "\n",
    "        self.train_mask[train_data.index + vocabCount] = True\n",
    "        self.test_mask[test_data.index + vocabCount] = True\n",
    "\n",
    "        data['train_mask'] = self.train_mask\n",
    "        data['test_mask'] = self.test_mask\n",
    "        self.data, self.slices = self.collate([data])\n",
    "\n",
    "    def _download(self):\n",
    "        return\n",
    "    \n",
    "    def _process(self):\n",
    "        return\n",
    "    \n",
    "    def __repr__(self) -> str:\n",
    "        return super().__repr__()\n",
    "    \n",
    "\n",
    "def get_vocab(docList, docNames):\n",
    "    \"\"\"\n",
    "    This function takes the dataset and generates the list of vocab with their number of appearances as well using CountVectorizer.\n",
    "    \"\"\"\n",
    "\n",
    "    # docList = [] # get_vocab(datapath + \"_docs.txt\")\n",
    "    # docNames = []\n",
    "    # f = open(docPath, 'rb')\n",
    "    # for line in f.readlines():\n",
    "    #     docList.append(line.decode('UTF-8').split('\\t')[1].strip())\n",
    "    #     docNames.append(line.decode('UTF-8').split('\\t')[0].strip())\n",
    "    # f.close()\n",
    "\n",
    "\n",
    "    tfidf = TfidfVectorizer(min_df=3)\n",
    "    tfidfvect = tfidf.fit_transform(docList)\n",
    "    vocab = tfidf.get_feature_names_out()\n",
    "    df_tfidfvect = pd.DataFrame(data = tfidfvect.toarray(),index = docNames, columns = vocab)\n",
    "    print(\"Vocab is complete\")\n",
    "\n",
    "    return vocab, tfidfvect, df_tfidfvect\n",
    "\n",
    "\n",
    "\n"
   ]
  },
  {
   "cell_type": "code",
   "execution_count": 44,
   "metadata": {},
   "outputs": [
    {
     "name": "stdout",
     "output_type": "stream",
     "text": [
      "Vocab is complete\n",
      "<class 'torch.Tensor'>\n"
     ]
    }
   ],
   "source": [
    "docList = [] # get_vocab(datapath + \"_docs.txt\")\n",
    "docNames = []\n",
    "f = open('data/gutenold/guten_sentences.txt', 'rb')\n",
    "for line in f.readlines():\n",
    "    docList.append(line.decode('UTF-8').split('\\t')[1].strip())\n",
    "    docNames.append(line.decode('UTF-8').split('\\t')[0].strip())\n",
    "f.close()\n",
    "numDocs = len(docList)\n",
    "\n",
    "wordList, tfvect, df_tfidf = get_vocab(docList, docNames)\n",
    "numWords = len(wordList)\n",
    "count = 0\n",
    "numNodes =  numWords + numDocs\n",
    "\n",
    "labels = []\n",
    "f = open('data/gutenold/guten_sentences.txt', 'rb')\n",
    "for line in f.readlines():\n",
    "    labels.append(line.decode('UTF-8').split('\\t')[1].strip())\n",
    "f.close()\n",
    "\n",
    "# create labels and sentences dataset.\n",
    "\n",
    "data = TextDataset(docList, labels, numNodes, test_size =0.2)\n",
    "\n",
    "print(type(data.train_mask))\n"
   ]
  }
 ],
 "metadata": {
  "kernelspec": {
   "display_name": "periodlearning",
   "language": "python",
   "name": "python3"
  },
  "language_info": {
   "codemirror_mode": {
    "name": "ipython",
    "version": 3
   },
   "file_extension": ".py",
   "mimetype": "text/x-python",
   "name": "python",
   "nbconvert_exporter": "python",
   "pygments_lexer": "ipython3",
   "version": "3.10.10"
  },
  "orig_nbformat": 4
 },
 "nbformat": 4,
 "nbformat_minor": 2
}
